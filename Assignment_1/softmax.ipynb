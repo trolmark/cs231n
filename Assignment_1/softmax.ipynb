{
 "cells": [
  {
   "cell_type": "markdown",
   "metadata": {
    "tags": [
     "pdf-title"
    ]
   },
   "source": [
    "# Softmax exercise\n",
    "\n",
    "*Complete and hand in this completed worksheet (including its outputs and any supporting code outside of the worksheet) with your assignment submission. For more details see the [assignments page](http://vision.stanford.edu/teaching/cs231n/assignments.html) on the course website.*\n",
    "\n",
    "This exercise is analogous to the SVM exercise. You will:\n",
    "\n",
    "- implement a fully-vectorized **loss function** for the Softmax classifier\n",
    "- implement the fully-vectorized expression for its **analytic gradient**\n",
    "- **check your implementation** with numerical gradient\n",
    "- use a validation set to **tune the learning rate and regularization** strength\n",
    "- **optimize** the loss function with **SGD**\n",
    "- **visualize** the final learned weights\n"
   ]
  },
  {
   "cell_type": "code",
   "execution_count": 1,
   "metadata": {
    "tags": [
     "pdf-ignore"
    ]
   },
   "outputs": [],
   "source": [
    "import random\n",
    "import numpy as np\n",
    "from cs231n.data_utils import load_CIFAR10\n",
    "import matplotlib.pyplot as plt\n",
    "\n",
    "%matplotlib inline\n",
    "plt.rcParams['figure.figsize'] = (10.0, 8.0) # set default size of plots\n",
    "plt.rcParams['image.interpolation'] = 'nearest'\n",
    "plt.rcParams['image.cmap'] = 'gray'\n",
    "\n",
    "# for auto-reloading extenrnal modules\n",
    "# see http://stackoverflow.com/questions/1907993/autoreload-of-modules-in-ipython\n",
    "%load_ext autoreload\n",
    "%autoreload 2"
   ]
  },
  {
   "cell_type": "code",
   "execution_count": 3,
   "metadata": {
    "tags": [
     "pdf-ignore"
    ]
   },
   "outputs": [
    {
     "name": "stdout",
     "output_type": "stream",
     "text": [
      "Train data shape:  (49000, 3073)\n",
      "Train labels shape:  (49000,)\n",
      "Validation data shape:  (1000, 3073)\n",
      "Validation labels shape:  (1000,)\n",
      "Test data shape:  (1000, 3073)\n",
      "Test labels shape:  (1000,)\n",
      "dev data shape:  (500, 3073)\n",
      "dev labels shape:  (500,)\n"
     ]
    }
   ],
   "source": [
    "def get_CIFAR10_data(num_training=49000, num_validation=1000, num_test=1000, num_dev=500):\n",
    "    \"\"\"\n",
    "    Load the CIFAR-10 dataset from disk and perform preprocessing to prepare\n",
    "    it for the linear classifier. These are the same steps as we used for the\n",
    "    SVM, but condensed to a single function.  \n",
    "    \"\"\"\n",
    "    # Load the raw CIFAR-10 data\n",
    "    cifar10_dir = '../../../Dataset/CIFAR'\n",
    "    \n",
    "    # Cleaning up variables to prevent loading data multiple times (which may cause memory issue)\n",
    "    try:\n",
    "       del X_train, y_train\n",
    "       del X_test, y_test\n",
    "       print('Clear previously loaded data.')\n",
    "    except:\n",
    "       pass\n",
    "\n",
    "    X_train, y_train, X_test, y_test = load_CIFAR10(cifar10_dir)\n",
    "    \n",
    "    # subsample the data\n",
    "    mask = list(range(num_training, num_training + num_validation))\n",
    "    X_val = X_train[mask]\n",
    "    y_val = y_train[mask]\n",
    "    mask = list(range(num_training))\n",
    "    X_train = X_train[mask]\n",
    "    y_train = y_train[mask]\n",
    "    mask = list(range(num_test))\n",
    "    X_test = X_test[mask]\n",
    "    y_test = y_test[mask]\n",
    "    mask = np.random.choice(num_training, num_dev, replace=False)\n",
    "    X_dev = X_train[mask]\n",
    "    y_dev = y_train[mask]\n",
    "    \n",
    "    # Preprocessing: reshape the image data into rows\n",
    "    X_train = np.reshape(X_train, (X_train.shape[0], -1))\n",
    "    X_val = np.reshape(X_val, (X_val.shape[0], -1))\n",
    "    X_test = np.reshape(X_test, (X_test.shape[0], -1))\n",
    "    X_dev = np.reshape(X_dev, (X_dev.shape[0], -1))\n",
    "    \n",
    "    # Normalize the data: subtract the mean image\n",
    "    mean_image = np.mean(X_train, axis = 0)\n",
    "    X_train -= mean_image\n",
    "    X_val -= mean_image\n",
    "    X_test -= mean_image\n",
    "    X_dev -= mean_image\n",
    "    \n",
    "    # add bias dimension and transform into columns\n",
    "    X_train = np.hstack([X_train, np.ones((X_train.shape[0], 1))])\n",
    "    X_val = np.hstack([X_val, np.ones((X_val.shape[0], 1))])\n",
    "    X_test = np.hstack([X_test, np.ones((X_test.shape[0], 1))])\n",
    "    X_dev = np.hstack([X_dev, np.ones((X_dev.shape[0], 1))])\n",
    "    \n",
    "    return X_train, y_train, X_val, y_val, X_test, y_test, X_dev, y_dev\n",
    "\n",
    "\n",
    "# Invoke the above function to get our data.\n",
    "X_train, y_train, X_val, y_val, X_test, y_test, X_dev, y_dev = get_CIFAR10_data()\n",
    "print('Train data shape: ', X_train.shape)\n",
    "print('Train labels shape: ', y_train.shape)\n",
    "print('Validation data shape: ', X_val.shape)\n",
    "print('Validation labels shape: ', y_val.shape)\n",
    "print('Test data shape: ', X_test.shape)\n",
    "print('Test labels shape: ', y_test.shape)\n",
    "print('dev data shape: ', X_dev.shape)\n",
    "print('dev labels shape: ', y_dev.shape)"
   ]
  },
  {
   "cell_type": "markdown",
   "metadata": {},
   "source": [
    "## Softmax Classifier\n",
    "\n",
    "Your code for this section will all be written inside **cs231n/classifiers/softmax.py**. \n"
   ]
  },
  {
   "cell_type": "code",
   "execution_count": 46,
   "metadata": {},
   "outputs": [
    {
     "name": "stdout",
     "output_type": "stream",
     "text": [
      "loss: 2.362698\n",
      "sanity check: 2.302585\n"
     ]
    }
   ],
   "source": [
    "# First implement the naive softmax loss function with nested loops.\n",
    "# Open the file cs231n/classifiers/softmax.py and implement the\n",
    "# softmax_loss_naive function.\n",
    "\n",
    "from cs231n.classifiers.softmax import softmax_loss_naive\n",
    "import time\n",
    "\n",
    "# Generate a random softmax weight matrix and use it to compute the loss.\n",
    "W = np.random.randn(3073, 10) * 0.0001\n",
    "loss, grad = softmax_loss_naive(W, X_dev, y_dev, 0.0)\n",
    "\n",
    "# As a rough sanity check, our loss should be something close to -log(0.1).\n",
    "print('loss: %f' % loss)\n",
    "print('sanity check: %f' % (-np.log(0.1)))"
   ]
  },
  {
   "cell_type": "markdown",
   "metadata": {
    "tags": [
     "pdf-inline"
    ]
   },
   "source": [
    "**Inline Question 1**\n",
    "\n",
    "Why do we expect our loss to be close to -log(0.1)? Explain briefly.**\n",
    "\n",
    "$\\color{blue}{\\textit Your Answer:}$ *Fill this in* \n",
    "\n"
   ]
  },
  {
   "cell_type": "code",
   "execution_count": 115,
   "metadata": {},
   "outputs": [
    {
     "name": "stdout",
     "output_type": "stream",
     "text": [
      "2.3626983160098716\n",
      "2.3626754892047845\n",
      "2.36272117255871\n",
      "numerical: -2.284168 analytic: -2.284168, relative error: 1.183647e-08\n",
      "2.36270108197746\n",
      "2.362695593798066\n",
      "numerical: 0.274409 analytic: 0.274409, relative error: 2.194272e-07\n",
      "2.3626696420403053\n",
      "2.3627270343448745\n",
      "numerical: -2.869615 analytic: -2.869615, relative error: 2.277008e-09\n",
      "2.362698062830723\n",
      "2.362698601347111\n",
      "numerical: -0.026926 analytic: -0.026926, relative error: 9.683754e-07\n",
      "2.3627111523288957\n",
      "2.3626855155284217\n",
      "numerical: 1.281840 analytic: 1.281840, relative error: 2.445447e-08\n",
      "2.362698033779469\n",
      "2.362698632155333\n",
      "numerical: -0.029919 analytic: -0.029919, relative error: 1.140889e-06\n",
      "2.362661923675344\n",
      "2.362734747919709\n",
      "numerical: -3.641212 analytic: -3.641212, relative error: 1.673000e-08\n",
      "2.3627122564659184\n",
      "2.3626844179805255\n",
      "numerical: 1.391924 analytic: 1.391924, relative error: 3.963127e-09\n",
      "2.3627165427903956\n",
      "2.36268014015188\n",
      "numerical: 1.820132 analytic: 1.820132, relative error: 4.492407e-08\n",
      "2.3626963062995716\n",
      "2.3627003622638743\n",
      "numerical: -0.202798 analytic: -0.202798, relative error: 3.723887e-07\n",
      "2.3779674395053805\n",
      "2.3779646561469994\n",
      "2.377970265255687\n",
      "numerical: -0.280455 analytic: -0.286670, relative error: 1.095842e-02\n",
      "2.3779292887380254\n",
      "2.3780056542328714\n",
      "numerical: -3.818275 analytic: -3.819655, relative error: 1.807340e-04\n",
      "2.377960859027537\n",
      "2.3779740616959186\n",
      "numerical: -0.660133 analytic: -0.652975, relative error: 5.451127e-03\n",
      "2.3779698893034653\n",
      "2.3779650346316608\n",
      "numerical: 0.242734 analytic: 0.250559, relative error: 1.586349e-02\n",
      "2.3779563503609844\n",
      "2.3779785711846144\n",
      "numerical: -1.111041 analytic: -1.114322, relative error: 1.474203e-03\n",
      "2.377958170681838\n",
      "2.3779767507898244\n",
      "numerical: -0.929005 analytic: -0.930355, relative error: 7.259234e-04\n",
      "2.3779748670341716\n",
      "2.3779600727166597\n",
      "numerical: 0.739716 analytic: 0.740248, relative error: 3.593739e-04\n",
      "2.377916203740797\n",
      "2.3780187441720355\n",
      "numerical: -5.127022 analytic: -5.120458, relative error: 6.405374e-04\n",
      "2.3779657077314025\n",
      "2.3779692190842483\n",
      "numerical: -0.175568 analytic: -0.181683, relative error: 1.711649e-02\n",
      "2.37798685460356\n",
      "2.3779480742853503\n",
      "numerical: 1.939016 analytic: 1.935144, relative error: 9.994836e-04\n"
     ]
    }
   ],
   "source": [
    "# Complete the implementation of softmax_loss_naive and implement a (naive)\n",
    "# version of the gradient that uses nested loops.\n",
    "loss, grad = softmax_loss_naive(W, X_dev, y_dev, 0.0)\n",
    "\n",
    "# As we did for the SVM, use numeric gradient checking as a debugging tool.\n",
    "# The numeric gradient should be close to the analytic gradient.\n",
    "from cs231n.gradient_check import grad_check_sparse\n",
    "f = lambda w: softmax_loss_naive(w, X_dev, y_dev, 0.0)[0]\n",
    "grad_numerical = grad_check_sparse(f, W, grad, 10)\n",
    "\n",
    "# similar to SVM case, do another gradient check with regularization\n",
    "loss, grad = softmax_loss_naive(W, X_dev, y_dev, 5e1)\n",
    "f = lambda w: softmax_loss_naive(w, X_dev, y_dev, 5e1)[0]\n",
    "grad_numerical = grad_check_sparse(f, W, grad, 10)"
   ]
  },
  {
   "cell_type": "code",
   "execution_count": 127,
   "metadata": {},
   "outputs": [
    {
     "name": "stdout",
     "output_type": "stream",
     "text": [
      "naive loss: 2.362698e+00 computed in 0.242258s\n",
      "vectorized loss: 2.362698e+00 computed in 0.008600s\n",
      "Loss difference: 0.000000\n",
      "Gradient difference: 0.000000\n"
     ]
    }
   ],
   "source": [
    "# Now that we have a naive implementation of the softmax loss function and its gradient,\n",
    "# implement a vectorized version in softmax_loss_vectorized.\n",
    "# The two versions should compute the same results, but the vectorized version should be\n",
    "# much faster.\n",
    "tic = time.time()\n",
    "loss_naive, grad_naive = softmax_loss_naive(W, X_dev, y_dev, 0.000005)\n",
    "toc = time.time()\n",
    "print('naive loss: %e computed in %fs' % (loss_naive, toc - tic))\n",
    "\n",
    "from cs231n.classifiers.softmax import softmax_loss_vectorized\n",
    "tic = time.time()\n",
    "loss_vectorized, grad_vectorized = softmax_loss_vectorized(W, X_dev, y_dev, 0.000005)\n",
    "toc = time.time()\n",
    "print('vectorized loss: %e computed in %fs' % (loss_vectorized, toc - tic))\n",
    "\n",
    "# As we did for the SVM, we use the Frobenius norm to compare the two versions\n",
    "# of the gradient.\n",
    "grad_difference = np.linalg.norm(grad_naive - grad_vectorized, ord='fro')\n",
    "print('Loss difference: %f' % np.abs(loss_naive - loss_vectorized))\n",
    "print('Gradient difference: %f' % grad_difference)"
   ]
  },
  {
   "cell_type": "code",
   "execution_count": 128,
   "metadata": {
    "tags": [
     "code"
    ]
   },
   "outputs": [
    {
     "name": "stdout",
     "output_type": "stream",
     "text": [
      "iteration 0 / 1500: loss 781.756052\n",
      "iteration 100 / 1500: loss 472.940412\n",
      "iteration 200 / 1500: loss 286.569252\n",
      "iteration 300 / 1500: loss 173.887012\n",
      "iteration 400 / 1500: loss 106.035318\n",
      "iteration 500 / 1500: loss 64.985476\n",
      "iteration 600 / 1500: loss 40.205685\n",
      "iteration 700 / 1500: loss 25.096016\n",
      "iteration 800 / 1500: loss 16.024538\n",
      "iteration 900 / 1500: loss 10.550453\n",
      "iteration 1000 / 1500: loss 7.221278\n",
      "iteration 1100 / 1500: loss 5.138803\n",
      "iteration 1200 / 1500: loss 3.981349\n",
      "iteration 1300 / 1500: loss 3.232182\n",
      "iteration 1400 / 1500: loss 2.799050\n",
      "iteration 0 / 1500: loss 1527.319872\n",
      "iteration 100 / 1500: loss 559.989721\n",
      "iteration 200 / 1500: loss 206.287658\n",
      "iteration 300 / 1500: loss 76.882600\n",
      "iteration 400 / 1500: loss 29.545842\n",
      "iteration 500 / 1500: loss 12.224788\n",
      "iteration 600 / 1500: loss 5.820823\n",
      "iteration 700 / 1500: loss 3.521471\n",
      "iteration 800 / 1500: loss 2.685493\n",
      "iteration 900 / 1500: loss 2.340861\n",
      "iteration 1000 / 1500: loss 2.256685\n",
      "iteration 1100 / 1500: loss 2.162344\n",
      "iteration 1200 / 1500: loss 2.200941\n",
      "iteration 1300 / 1500: loss 2.172329\n",
      "iteration 1400 / 1500: loss 2.153841\n",
      "iteration 0 / 1500: loss 765.502517\n",
      "iteration 100 / 1500: loss 62.956332\n",
      "iteration 200 / 1500: loss 6.977580\n",
      "iteration 300 / 1500: loss 2.508077\n",
      "iteration 400 / 1500: loss 2.144557\n",
      "iteration 500 / 1500: loss 2.210373\n",
      "iteration 600 / 1500: loss 2.093471\n",
      "iteration 700 / 1500: loss 2.142057\n",
      "iteration 800 / 1500: loss 2.084636\n",
      "iteration 900 / 1500: loss 2.075211\n",
      "iteration 1000 / 1500: loss 2.060270\n",
      "iteration 1100 / 1500: loss 2.163320\n",
      "iteration 1200 / 1500: loss 2.169819\n",
      "iteration 1300 / 1500: loss 2.154205\n",
      "iteration 1400 / 1500: loss 2.162169\n",
      "iteration 0 / 1500: loss 1559.544212\n",
      "iteration 100 / 1500: loss 11.925887\n",
      "iteration 200 / 1500: loss 2.251792\n",
      "iteration 300 / 1500: loss 2.163893\n",
      "iteration 400 / 1500: loss 2.245833\n",
      "iteration 500 / 1500: loss 2.200897\n",
      "iteration 600 / 1500: loss 2.237153\n",
      "iteration 700 / 1500: loss 2.176236\n",
      "iteration 800 / 1500: loss 2.170384\n",
      "iteration 900 / 1500: loss 2.126871\n",
      "iteration 1000 / 1500: loss 2.161416\n",
      "iteration 1100 / 1500: loss 2.282003\n",
      "iteration 1200 / 1500: loss 2.187660\n",
      "iteration 1300 / 1500: loss 2.206482\n",
      "iteration 1400 / 1500: loss 2.174323\n",
      "lr 1.000000e-07 reg 2.500000e+04 train accuracy: 0.352531 val accuracy: 0.362000\n",
      "lr 1.000000e-07 reg 5.000000e+04 train accuracy: 0.326633 val accuracy: 0.336000\n",
      "lr 5.000000e-07 reg 2.500000e+04 train accuracy: 0.347633 val accuracy: 0.365000\n",
      "lr 5.000000e-07 reg 5.000000e+04 train accuracy: 0.327837 val accuracy: 0.346000\n",
      "best validation accuracy achieved during cross-validation: 0.365000\n"
     ]
    }
   ],
   "source": [
    "# Use the validation set to tune hyperparameters (regularization strength and\n",
    "# learning rate). You should experiment with different ranges for the learning\n",
    "# rates and regularization strengths; if you are careful you should be able to\n",
    "# get a classification accuracy of over 0.35 on the validation set.\n",
    "from cs231n.classifiers import Softmax\n",
    "results = {}\n",
    "best_val = -1\n",
    "best_softmax = None\n",
    "learning_rates = [1e-7, 5e-7]\n",
    "regularization_strengths = [2.5e4, 5e4]\n",
    "\n",
    "################################################################################\n",
    "# TODO:                                                                        #\n",
    "# Use the validation set to set the learning rate and regularization strength. #\n",
    "# This should be identical to the validation that you did for the SVM; save    #\n",
    "# the best trained softmax classifer in best_softmax.                          #\n",
    "################################################################################\n",
    "# *****START OF YOUR CODE (DO NOT DELETE/MODIFY THIS LINE)*****\n",
    "\n",
    "for lr in learning_rates:\n",
    "    for reg in regularization_strengths:\n",
    "        classifier = Softmax()\n",
    "        classifier.train(X_train, y_train, learning_rate=lr, reg=reg, num_iters=1500, verbose=True) \n",
    "        y_train_pred = classifier.predict(X_train)\n",
    "        train_accuracy = np.mean(y_train == y_train_pred)\n",
    "        \n",
    "        y_val_pred = classifier.predict(X_val)\n",
    "        val_accuracy = np.mean(y_val == y_val_pred)\n",
    "        results[(lr, reg)] = (train_accuracy,val_accuracy)\n",
    "        if val_accuracy > best_val:\n",
    "            best_val = val_accuracy\n",
    "            best_softmax = classifier\n",
    "\n",
    "# *****END OF YOUR CODE (DO NOT DELETE/MODIFY THIS LINE)*****\n",
    "    \n",
    "# Print out results.\n",
    "for lr, reg in sorted(results):\n",
    "    train_accuracy, val_accuracy = results[(lr, reg)]\n",
    "    print('lr %e reg %e train accuracy: %f val accuracy: %f' % (\n",
    "                lr, reg, train_accuracy, val_accuracy))\n",
    "    \n",
    "print('best validation accuracy achieved during cross-validation: %f' % best_val)"
   ]
  },
  {
   "cell_type": "code",
   "execution_count": 129,
   "metadata": {},
   "outputs": [
    {
     "name": "stdout",
     "output_type": "stream",
     "text": [
      "softmax on raw pixels final test set accuracy: 0.354000\n"
     ]
    }
   ],
   "source": [
    "# evaluate on test set\n",
    "# Evaluate the best softmax on test set\n",
    "y_test_pred = best_softmax.predict(X_test)\n",
    "test_accuracy = np.mean(y_test == y_test_pred)\n",
    "print('softmax on raw pixels final test set accuracy: %f' % (test_accuracy, ))"
   ]
  },
  {
   "cell_type": "markdown",
   "metadata": {
    "tags": [
     "pdf-inline"
    ]
   },
   "source": [
    "**Inline Question 2** - *True or False*\n",
    "\n",
    "Suppose the overall training loss is defined as the sum of the per-datapoint loss over all training examples. It is possible to add a new datapoint to a training set that would leave the SVM loss unchanged, but this is not the case with the Softmax classifier loss.\n",
    "\n",
    "$\\color{blue}{\\textit Your Answer:}$\n",
    "\n",
    "\n",
    "$\\color{blue}{\\textit Your Explanation:}$\n",
    "\n"
   ]
  },
  {
   "cell_type": "code",
   "execution_count": null,
   "metadata": {},
   "outputs": [],
   "source": [
    "# Visualize the learned weights for each class\n",
    "w = best_softmax.W[:-1,:] # strip out the bias\n",
    "w = w.reshape(32, 32, 3, 10)\n",
    "\n",
    "w_min, w_max = np.min(w), np.max(w)\n",
    "\n",
    "classes = ['plane', 'car', 'bird', 'cat', 'deer', 'dog', 'frog', 'horse', 'ship', 'truck']\n",
    "for i in range(10):\n",
    "    plt.subplot(2, 5, i + 1)\n",
    "    \n",
    "    # Rescale the weights to be between 0 and 255\n",
    "    wimg = 255.0 * (w[:, :, :, i].squeeze() - w_min) / (w_max - w_min)\n",
    "    plt.imshow(wimg.astype('uint8'))\n",
    "    plt.axis('off')\n",
    "    plt.title(classes[i])"
   ]
  }
 ],
 "metadata": {
  "kernelspec": {
   "display_name": "Python 3",
   "language": "python",
   "name": "python3"
  },
  "language_info": {
   "codemirror_mode": {
    "name": "ipython",
    "version": 3
   },
   "file_extension": ".py",
   "mimetype": "text/x-python",
   "name": "python",
   "nbconvert_exporter": "python",
   "pygments_lexer": "ipython3",
   "version": "3.6.7"
  }
 },
 "nbformat": 4,
 "nbformat_minor": 1
}
